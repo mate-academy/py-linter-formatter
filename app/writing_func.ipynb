{
 "cells": [
  {
   "cell_type": "code",
   "execution_count": 33,
   "metadata": {
    "collapsed": true,
    "ExecuteTime": {
     "end_time": "2023-06-28T11:57:14.768235Z",
     "start_time": "2023-06-28T11:57:14.722952Z"
    }
   },
   "outputs": [
    {
     "name": "stdout",
     "output_type": "stream",
     "text": [
      "[]\n",
      "[{'code': 'E501', 'filename': './source_code_2.py', 'line_number': 18, 'column_number': 80, 'text': 'line too long (99 > 79 characters)', 'physical_line': '    return f\"I like to filter, rounding, doubling, store and decorate numbers: {\\', \\'.join(items)}!\"'}, {'code': 'W292', 'filename': './source_code_2.py', 'line_number': 18, 'column_number': 100, 'text': 'no newline at end of file', 'physical_line': '    return f\"I like to filter, rounding, doubling, store and decorate numbers: {\\', \\'.join(items)}!\"'}]\n",
      "[{'code': 'E501', 'filename': './source_code_2.py', 'line_number': 18, 'column_number': 80, 'text': 'line too long (99 > 79 characters)', 'physical_line': '    return f\"I like to filter, rounding, doubling, store and decorate numbers: {\\', \\'.join(items)}!\"'}, {'code': 'W292', 'filename': './source_code_2.py', 'line_number': 18, 'column_number': 100, 'text': 'no newline at end of file', 'physical_line': '    return f\"I like to filter, rounding, doubling, store and decorate numbers: {\\', \\'.join(items)}!\"'}]\n"
     ]
    }
   ],
   "source": [
    "\n",
    "error = {\n",
    "    \"code\": \"E501\",\n",
    "    \"filename\": \"./source_code_2.py\",\n",
    "    \"line_number\": 18,\n",
    "    \"column_number\": 80,\n",
    "    \"text\": \"line too long (99 > 79 characters)\",\n",
    "    \"physical_line\": '    return f\"I like to filter, rounding, doubling, '\n",
    "    \"store and decorate numbers: {', '.join(items)}!\\\"\",\n",
    "}\n",
    "\n",
    "errors = [\n",
    "    {\n",
    "        \"code\": \"E501\",\n",
    "        \"filename\": \"./source_code_2.py\",\n",
    "        \"line_number\": 18,\n",
    "        \"column_number\": 80,\n",
    "         \"text\": \"line too long (99 > 79 characters)\",\n",
    "        \"physical_line\": '    return f\"I like to filter, rounding, doubling, '\n",
    "        \"store and decorate numbers: {', '.join(items)}!\\\"\",\n",
    "    },\n",
    "    {\n",
    "        \"code\": \"W292\",\n",
    "        \"filename\": \"./source_code_2.py\",\n",
    "        \"line_number\": 18,\n",
    "        \"column_number\": 100,\n",
    "        \"text\": \"no newline at end of file\",\n",
    "        \"physical_line\": '    return f\"I like to filter, rounding, doubling, '\n",
    "        \"store and decorate numbers: {', '.join(items)}!\\\"\",\n",
    "    },\n",
    "]\n",
    "\n",
    "report_file = {\n",
    "    \"./test_source_code_2.py\": [],\n",
    "    \"./source_code_2.py\":\n",
    "        [\n",
    "            {\n",
    "                \"code\": \"E501\",\n",
    "                \"filename\": \"./source_code_2.py\",\n",
    "                \"line_number\": 18,\n",
    "                \"column_number\": 80,\n",
    "                \"text\": \"line too long (99 > 79 characters)\",\n",
    "                \"physical_line\": '    return f\"I like to filter, rounding, doubling, '\n",
    "                \"store and decorate numbers: {', '.join(items)}!\\\"\",\n",
    "            },\n",
    "            {\n",
    "                \"code\": \"W292\",\n",
    "                \"filename\": \"./source_code_2.py\",\n",
    "                \"line_number\": 18,\n",
    "                \"column_number\": 100,\n",
    "                \"text\": \"no newline at end of file\",\n",
    "                \"physical_line\": '    return f\"I like to filter, rounding, doubling, '\n",
    "                \"store and decorate numbers: {', '.join(items)}!\\\"\",\n",
    "            },\n",
    "        ],\n",
    "    \"./source_code_3.py\":\n",
    "        [\n",
    "            {\n",
    "                \"code\": \"E501\",\n",
    "                \"filename\": \"./source_code_3.py\",\n",
    "                \"line_number\": 18,\n",
    "                \"column_number\": 80,\n",
    "                \"text\": \"line too long (99 > 79 characters)\",\n",
    "                \"physical_line\": '    return f\"I like to filter, rounding, doubling, '\n",
    "                \"store and decorate numbers: {', '.join(items)}!\\\"\",\n",
    "            },\n",
    "            {\n",
    "                \"code\": \"W292\",\n",
    "                \"filename\": \"./source_code_3.py\",\n",
    "                \"line_number\": 18,\n",
    "                \"column_number\": 100,\n",
    "                \"text\": \"no newline at end of file\",\n",
    "                \"physical_line\": '    return f\"I like to filter, rounding, doubling, '\n",
    "                \"store and decorate numbers: {', '.join(items)}!\\\"\",\n",
    "            },\n",
    "        ],\n",
    "    \"./source_code_5.py\":\n",
    "        [\n",
    "            {\n",
    "                \"code\": \"E501\",\n",
    "                \"filename\": \"./source_code_4.py\",\n",
    "                \"line_number\": 18,\n",
    "                \"column_number\": 80,\n",
    "                \"text\": \"line too long (99 > 79 characters)\",\n",
    "                \"physical_line\": '    return f\"I like to filter, rounding, doubling, '\n",
    "                \"store and decorate numbers: {', '.join(items)}!\\\"\",\n",
    "            },\n",
    "            {\n",
    "                \"code\": \"W292\",\n",
    "                \"filename\": \"./source_code_5.py\",\n",
    "                \"line_number\": 18,\n",
    "                \"column_number\": 100,\n",
    "                \"text\": \"no newline at end of file\",\n",
    "                \"physical_line\": '    return f\"I like to filter, rounding, doubling, '\n",
    "                \"store and decorate numbers: {', '.join(items)}!\\\"\",\n",
    "            },\n",
    "        ],\n",
    "        \"./source_code_6.py\":\n",
    "        [\n",
    "            {\n",
    "                \"code\": \"E501\",\n",
    "                \"filename\": \"./source_code_4.py\",\n",
    "                \"line_number\": 18,\n",
    "                \"column_number\": 80,\n",
    "                \"text\": \"line too long (99 > 79 characters)\",\n",
    "                \"physical_line\": '    return f\"I like to filter, rounding, doubling, '\n",
    "                \"store and decorate numbers: {', '.join(items)}!\\\"\",\n",
    "            },\n",
    "            {\n",
    "                \"code\": \"W292\",\n",
    "                \"filename\": \"./source_code_5.py\",\n",
    "                \"line_number\": 18,\n",
    "                \"column_number\": 100,\n",
    "                \"text\": \"no newline at end of file\",\n",
    "                \"physical_line\": '    return f\"I like to filter, rounding, doubling, '\n",
    "                \"store and decorate numbers: {', '.join(items)}!\\\"\",\n",
    "            },\n",
    "        ],\n",
    "        \"./source_code_7.py\":\n",
    "        [\n",
    "            {\n",
    "                \"code\": \"E501\",\n",
    "                \"filename\": \"./source_code_4.py\",\n",
    "                \"line_number\": 18,\n",
    "                \"column_number\": 80,\n",
    "                \"text\": \"line too long (99 > 79 characters)\",\n",
    "                \"physical_line\": '    return f\"I like to filter, rounding, doubling, '\n",
    "                \"store and decorate numbers: {', '.join(items)}!\\\"\",\n",
    "            },\n",
    "            {\n",
    "                \"code\": \"W292\",\n",
    "                \"filename\": \"./source_code_5.py\",\n",
    "                \"line_number\": 18,\n",
    "                \"column_number\": 100,\n",
    "                \"text\": \"no newline at end of file\",\n",
    "                \"physical_line\": '    return f\"I like to filter, rounding, doubling, '\n",
    "                \"store and decorate numbers: {', '.join(items)}!\\\"\",\n",
    "            },\n",
    "        ],\n",
    "}\n",
    "\n",
    "\n",
    "\n",
    "for key in report_file.values():\n",
    "    print(key)\n",
    "\n",
    "\n"
   ]
  },
  {
   "cell_type": "code",
   "execution_count": null,
   "outputs": [],
   "source": [],
   "metadata": {
    "collapsed": false
   }
  },
  {
   "cell_type": "code",
   "execution_count": null,
   "outputs": [],
   "source": [
    "def format_linter_error(error: dict) -> dict:\n",
    "    return {\n",
    "        \"line\": error[\"line_number\"],\n",
    "        \"column\": error[\"column_number\"],\n",
    "        \"message\": error[\"text\"],\n",
    "        \"name\": error[\"code\"],\n",
    "        \"source\": \"flake8\"\n",
    "    }\n",
    "\n",
    "# format_linter_error(error)"
   ],
   "metadata": {
    "collapsed": false
   }
  },
  {
   "cell_type": "code",
   "execution_count": 15,
   "outputs": [
    {
     "data": {
      "text/plain": "{'errors': [], '\\npath': './source_code_2.py', '\\nstatus': 'passed'}"
     },
     "execution_count": 15,
     "metadata": {},
     "output_type": "execute_result"
    }
   ],
   "source": [
    "def format_single_linter_file(file_path: str, errors: list) -> dict:\n",
    "    status = \"failed\" if errors else \"passed\"\n",
    "\n",
    "    return {\n",
    "        \"errors\": [\n",
    "            format_linter_error(err) for err in errors\n",
    "        ],\n",
    "        \"path\": file_path,\n",
    "        \"status\": status\n",
    "    }\n",
    "\n",
    "\n",
    "\n",
    "# format_single_linter_file(\"./source_code_2.py\", [])\n"
   ],
   "metadata": {
    "collapsed": false,
    "ExecuteTime": {
     "end_time": "2023-06-28T11:22:44.109562Z",
     "start_time": "2023-06-28T11:22:44.104608Z"
    }
   }
  },
  {
   "cell_type": "code",
   "execution_count": 39,
   "outputs": [
    {
     "data": {
      "text/plain": "[{'errors': [], '\\npath': './test_source_code_2.py', '\\nstatus': 'passed'},\n {'errors': [{'line': 18,\n    'column': 80,\n    'message': 'line too long (99 > 79 characters)',\n    'name': 'E501',\n    'source': 'flake8'},\n   {'line': 18,\n    'column': 100,\n    'message': 'no newline at end of file',\n    'name': 'W292',\n    'source': 'flake8'}],\n  '\\npath': './source_code_2.py',\n  '\\nstatus': 'failed'},\n {'errors': [{'line': 18,\n    'column': 80,\n    'message': 'line too long (99 > 79 characters)',\n    'name': 'E501',\n    'source': 'flake8'},\n   {'line': 18,\n    'column': 100,\n    'message': 'no newline at end of file',\n    'name': 'W292',\n    'source': 'flake8'}],\n  '\\npath': './source_code_3.py',\n  '\\nstatus': 'failed'}]"
     },
     "execution_count": 39,
     "metadata": {},
     "output_type": "execute_result"
    }
   ],
   "source": [
    "def format_linter_report(linter_report: dict) -> list:\n",
    "\n",
    "    return [\n",
    "        format_single_linter_file(file_path, errors) for file_path, errors in linter_report.items()\n",
    "    ]\n",
    "\n",
    "format_linter_report(report_file)"
   ],
   "metadata": {
    "collapsed": false,
    "ExecuteTime": {
     "end_time": "2023-06-28T12:08:50.512109Z",
     "start_time": "2023-06-28T12:08:50.489774Z"
    }
   }
  }
 ],
 "metadata": {
  "kernelspec": {
   "display_name": "Python 3",
   "language": "python",
   "name": "python3"
  },
  "language_info": {
   "codemirror_mode": {
    "name": "ipython",
    "version": 2
   },
   "file_extension": ".py",
   "mimetype": "text/x-python",
   "name": "python",
   "nbconvert_exporter": "python",
   "pygments_lexer": "ipython2",
   "version": "2.7.6"
  }
 },
 "nbformat": 4,
 "nbformat_minor": 0
}
